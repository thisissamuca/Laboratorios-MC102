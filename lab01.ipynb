{
  "nbformat": 4,
  "nbformat_minor": 0,
  "metadata": {
    "colab": {
      "provenance": [],
      "collapsed_sections": []
    },
    "kernelspec": {
      "name": "python3",
      "display_name": "Python 3"
    },
    "language_info": {
      "name": "python"
    }
  },
  "cells": [
    {
      "cell_type": "code",
      "execution_count": null,
      "metadata": {
        "id": "8TplSIKjTLGN"
      },
      "outputs": [],
      "source": [
        "###################################################\n",
        "# MC102 - Algoritmos e Programação de Computadores\n",
        "# Laboratório 1 - Aritmética com Inteiros\n",
        "# Nome: Samuel Augusto de Souza\n",
        "# RA: 261025\n",
        "###################################################\n",
        "\n",
        "a = int(input())\n",
        "b = int(input())\n",
        "\n",
        "print(\"a =\", a)\n",
        "print(\"b =\", b)\n",
        "print(\"a + b =\", a + b)\n",
        "print(\"a - b =\", a - b)\n",
        "print(\"a * b =\", a * b)\n",
        "print(\"a ** b =\", a ** b)\n",
        "print(\"a // b =\", a // b)\n",
        "print(\"a % b =\", a % b)"
      ]
    }
  ]
}