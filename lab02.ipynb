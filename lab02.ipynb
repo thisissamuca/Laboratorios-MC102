{
  "nbformat": 4,
  "nbformat_minor": 0,
  "metadata": {
    "colab": {
      "provenance": []
    },
    "kernelspec": {
      "name": "python3",
      "display_name": "Python 3"
    },
    "language_info": {
      "name": "python"
    }
  },
  "cells": [
    {
      "cell_type": "code",
      "execution_count": null,
      "metadata": {
        "id": "wsA1x8t0j_f3",
        "colab": {
          "base_uri": "https://localhost:8080/"
        },
        "outputId": "cde5f8ba-348b-42a5-d0d7-556119bfb12e"
      },
      "outputs": [
        {
          "name": "stdout",
          "output_type": "stream",
          "text": [
            "74462064\n",
            "26111\n",
            "7\n"
          ]
        }
      ],
      "source": [
        "###################################################\n",
        "# MC102 - Algoritmos e Programação de Computadores\n",
        "# Laboratório 2 - Rumo a Marte\n",
        "# Nome: Samuel Augusto de Souza\n",
        "# RA: 261025\n",
        "###################################################\n",
        "\n",
        "# Leitura de dados\n",
        "\n",
        "D1 = int(input())\n",
        "V1 = int(input())\n",
        "T = int(input())\n",
        "D2 = int(input())\n",
        "V2 = int(input())\n",
        "\n",
        "# Cálculo do tempo total gasto por cada espaçonave \n",
        "\n",
        "hours1 = D1 / V1\n",
        "hours2 = D2 / V2\n",
        "timeSpaceX = hours1\n",
        "timeBlueOrigin = hours2 + (T*24)\n",
        "\n",
        "# Impressão da resposta\n",
        "\n",
        "print(timeSpaceX < timeBlueOrigin)"
      ]
    }
  ]
}