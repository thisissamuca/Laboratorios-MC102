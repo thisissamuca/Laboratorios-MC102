{
  "nbformat": 4,
  "nbformat_minor": 0,
  "metadata": {
    "colab": {
      "provenance": []
    },
    "kernelspec": {
      "name": "python3",
      "display_name": "Python 3"
    },
    "language_info": {
      "name": "python"
    }
  },
  "cells": [
    {
      "cell_type": "code",
      "execution_count": null,
      "metadata": {
        "id": "0gWi0ESoGe13"
      },
      "outputs": [],
      "source": [
        "###################################################\n",
        "# MC102 - Algoritmos e Programação de Computadores\n",
        "# Laboratório 4 - Controle de Estoque\n",
        "# Nome: Samuel Augusto de Souza\n",
        "# RA: 261025\n",
        "###################################################\n",
        "\n",
        "# leitura da sequência de compras e vendas\n",
        "\n",
        "def controle_estoque():\n",
        "  \n",
        "  estoque = 0\n",
        "  number = int(input())\n",
        "  qtd_venda = []\n",
        "  valor_venda = []\n",
        "  estoque_list = []\n",
        "  venda_invalida = []\n",
        "  qtd_venda.clear()\n",
        "  valor_venda.clear()\n",
        "  estoque_list.clear()\n",
        "  venda_invalida.clear()\n",
        "\n",
        "  while number != 0:\n",
        "\n",
        "    if number < 0:\n",
        "\n",
        "      venda = estoque + number\n",
        "\n",
        "      if venda < 0: \n",
        "\n",
        "        print(f'Quantidade indisponível para a venda de {-1*number} unidades.')\n",
        "\n",
        "        number = int(input())\n",
        "\n",
        "      if venda > 0:\n",
        "\n",
        "        qtd_venda.append(1)\n",
        "\n",
        "        valor_venda.append(number)\n",
        "\n",
        "        estoque = estoque + number\n",
        "\n",
        "        number = int(input())\n",
        "\n",
        "    if number > 0:\n",
        "\n",
        "      estoque = estoque + number\n",
        "\n",
        "      estoque_list.append(number)\n",
        "\n",
        "      number = int(input())\n",
        "\n",
        "  print(f'Quantidade de vendas realizadas: {sum(qtd_venda)}')\n",
        "\n",
        "  print(f'Quantidade em estoque: {sum(estoque_list) + sum(valor_venda)}')\n",
        "\n",
        "# impressão da saída\n",
        "\n",
        "controle_estoque()"
      ]
    }
  ]
}