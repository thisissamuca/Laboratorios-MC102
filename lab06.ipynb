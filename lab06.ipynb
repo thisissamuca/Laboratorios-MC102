{
  "nbformat": 4,
  "nbformat_minor": 0,
  "metadata": {
    "colab": {
      "provenance": []
    },
    "kernelspec": {
      "name": "python3",
      "display_name": "Python 3"
    },
    "language_info": {
      "name": "python"
    }
  },
  "cells": [
    {
      "cell_type": "code",
      "execution_count": null,
      "metadata": {
        "id": "e9souh1v5zUi"
      },
      "outputs": [],
      "source": [
        "##################################################\n",
        "# MC102 - Algoritmos e Programação de Computadores\n",
        "# Laboratório 6 - Torre de Panquecas\n",
        "# Nome: Samuel Augusto de Souza\n",
        "# RA: 261025\n",
        "##################################################\n",
        "\n",
        "def organizador_panquecas():\n",
        "\n",
        "  lista_01 = []\n",
        "  lista_02 = []\n",
        "\n",
        "# Leitura da torre de panquecas\n",
        "\n",
        "  torre = [int(panqueca) for panqueca in input().split()]\n",
        "\n",
        "  M = int(input())\n",
        "\n",
        "# Leitura e processamento dos movimentos\n",
        "\n",
        "  while M != 0:\n",
        "\n",
        "    for i in range(len(torre[0:M])):\n",
        "\n",
        "      lista_01.append(torre[0:M][i])\n",
        "\n",
        "    for k in range(len(lista_01)):\n",
        "    \n",
        "      lista_02.append(lista_01[len(lista_01) - 1 - k])\n",
        "\n",
        "    for j in range(len(torre[M:len(torre)])):\n",
        "\n",
        "      lista_02.append(torre[M:len(torre)][j])\n",
        "\n",
        "    for p in range(len(torre)):\n",
        "\n",
        "      torre[p] = lista_02[p]\n",
        "\n",
        "    M = int(input())\n",
        "\n",
        "    lista_01.clear()\n",
        "\n",
        "    lista_02.clear()\n",
        "\n",
        "# Impressão da saída\n",
        "\n",
        "  if torre == sorted(torre, reverse=False):\n",
        "\n",
        "    print('Torre estavel')\n",
        "\n",
        "  else:\n",
        "\n",
        "    print('Torre instavel')\n",
        "\n",
        "organizador_panquecas()"
      ]
    }
  ]
}